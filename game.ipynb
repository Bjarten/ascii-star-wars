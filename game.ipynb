{
 "cells": [
  {
   "cell_type": "markdown",
   "metadata": {
    "collapsed": true
   },
   "source": [
    "# Which Star Wars Character Are You?\n",
    "\n"
   ]
  },
  {
   "cell_type": "code",
   "execution_count": 17,
   "metadata": {},
   "outputs": [
    {
     "name": "stdout",
     "output_type": "stream",
     "text": [
      "         .         .    .      .\n",
      "        ________   ___   ____\n",
      "    .  / __   __| / _ \\ |  _ \\\n",
      "    ___> \\ | |   |  _  ||    /__\n",
      "   |_____/ |_| . |_| |_||_|\\____|\n",
      "    _  _  _   ___   ____    ____\n",
      ".  | |/ \\| | / _ \\ |  _ \\. / ___|\n",
      "   |   .   ||  _  ||    /__> \\  .\n",
      "    \\_/ \\_/ |_| |_||_|\\______/\n",
      "  .            .\n",
      "         .                   .\"\"\"\n",
      "\n",
      "Your character is\n",
      "\n",
      "               .--.\n",
      "    :::\\`--._,'.::.`._.--'/:::\n",
      "    :::::.  ` __::__ '  .:::::\n",
      "    :::::::-:.`'..`'.:-:::::::\n",
      "    :::::::::\\ `--' /:::::::::  -Don\n",
      "\n",
      "              Y o d a\n",
      "\n"
     ]
    }
   ],
   "source": [
    "import asciistarwars\n",
    "\n",
    "print(asciistarwars.starwarslogo())\n",
    "\n",
    "print(\"Your character is\\n\")\n",
    "\n",
    "print(asciistarwars.rnd_character())\n"
   ]
  }
 ],
 "metadata": {
  "kernelspec": {
   "display_name": "Python 3",
   "language": "python",
   "name": "python3"
  },
  "language_info": {
   "codemirror_mode": {
    "name": "ipython",
    "version": 3
   },
   "file_extension": ".py",
   "mimetype": "text/x-python",
   "name": "python",
   "nbconvert_exporter": "python",
   "pygments_lexer": "ipython3",
   "version": "3.5.5"
  }
 },
 "nbformat": 4,
 "nbformat_minor": 1
}
